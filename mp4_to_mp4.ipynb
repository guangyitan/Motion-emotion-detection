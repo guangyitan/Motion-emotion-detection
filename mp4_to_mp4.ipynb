{
 "cells": [
  {
   "cell_type": "code",
   "execution_count": 8,
   "metadata": {},
   "outputs": [
    {
     "name": "stdout",
     "output_type": "stream",
     "text": [
      "size:  (3840, 2160)\n",
      "The video was successfully saved\n"
     ]
    }
   ],
   "source": [
    "# Python program to save a\n",
    "# video using OpenCV\n",
    "\n",
    "\n",
    "import cv2\n",
    "\n",
    "\n",
    "# Create an object to read\n",
    "# from camera\n",
    "# video = cv2.VideoCapture(0)\n",
    "# video = cv2.VideoCapture(\"clip2_7s.mp4\")\n",
    "video = cv2.VideoCapture(os.getcwd() + \"/data/vid1_part1.mp4\")\n",
    "\n",
    "# We need to check if camera\n",
    "# is opened previously or not\n",
    "if (video.isOpened() == False):\n",
    "    print(\"Error reading video file\")\n",
    "\n",
    "# We need to set resolutions.\n",
    "# so, convert them from float to integer.\n",
    "frame_width = int(video.get(3))\n",
    "frame_height = int(video.get(4))\n",
    "\n",
    "size = (frame_width, frame_height)\n",
    "print(\"size: \", size)\n",
    "\n",
    "# Below VideoWriter object will create\n",
    "# a frame of above defined The output\n",
    "# is stored in 'filename.avi' file.\n",
    "result = cv2.VideoWriter('filename.avi', cv2.VideoWriter_fourcc(*'MJPG'),10, size)\n",
    "result_mp4 = cv2.VideoWriter('filename.mp4', cv2.VideoWriter_fourcc(*'MP4V'), 10, (int(frame_width/2), int(frame_height/2)))\n",
    "\n",
    "while(True):\n",
    "    ret, frame = video.read()\n",
    "\n",
    "    if ret == True:\n",
    "\n",
    "        # Start coordinate, here (100, 50)\n",
    "        # represents the top left corner of rectangle\n",
    "        start_point = (5, 5)\n",
    "        \n",
    "        # Ending coordinate, here (125, 80)\n",
    "        # represents the bottom right corner of rectangle\n",
    "        end_point = (500, 500)\n",
    "        \n",
    "        # Black color in BGR\n",
    "        color = (0, 0, 0)\n",
    "        \n",
    "        # Line thickness of -1 px\n",
    "        # Thickness of -1 will fill the entire shape\n",
    "        thickness = 2\n",
    "        \n",
    "        # Using cv2.rectangle() method\n",
    "        # Draw a rectangle of black color of thickness -1 px\n",
    "        # image = cv2.rectangle(image, start_point, end_point, color, thickness)\n",
    "\n",
    "        # draw rectangle on the frame\n",
    "        cv2.rectangle(frame, start_point, end_point, color, thickness)\n",
    "        # cv2.rectangle(frame, (startX, startY), (endX,endY),color,2)\n",
    "\n",
    "        # resize\n",
    "        resized_frame = cv2.resize(frame, (int(frame_width/2), int(frame_height/2)), fx=0, fy=0, interpolation=cv2.INTER_CUBIC)\n",
    "\n",
    "        # Write the frame into the\n",
    "        # file 'filename.avi'\n",
    "        result.write(frame)\n",
    "        result_mp4.write(resized_frame)\n",
    "\n",
    "        # Display the frame\n",
    "        # saved in the file\n",
    "        cv2.imshow('Frame', frame)\n",
    "        cv2.imshow('Frame Resize', resized_frame)\n",
    "\n",
    "        # Press S on keyboard\n",
    "        # to stop the process\n",
    "        if cv2.waitKey(1) & 0xFF == ord('s'):\n",
    "            break\n",
    "\n",
    "    # Break the loop\n",
    "    else:\n",
    "        break\n",
    "\n",
    "# When everything done, release\n",
    "# the video capture and video\n",
    "# write objects\n",
    "video.release()\n",
    "result.release()\n",
    "result_mp4.release()\n",
    "\n",
    "# Closes all the frames\n",
    "cv2.destroyAllWindows()\n",
    "\n",
    "print(\"The video was successfully saved\")\n"
   ]
  },
  {
   "cell_type": "code",
   "execution_count": null,
   "metadata": {},
   "outputs": [],
   "source": []
  },
  {
   "cell_type": "code",
   "execution_count": null,
   "metadata": {},
   "outputs": [],
   "source": []
  }
 ],
 "metadata": {
  "kernelspec": {
   "display_name": "Python 3.9.13 ('deepFace')",
   "language": "python",
   "name": "python3"
  },
  "language_info": {
   "codemirror_mode": {
    "name": "ipython",
    "version": 3
   },
   "file_extension": ".py",
   "mimetype": "text/x-python",
   "name": "python",
   "nbconvert_exporter": "python",
   "pygments_lexer": "ipython3",
   "version": "3.9.13"
  },
  "orig_nbformat": 4,
  "vscode": {
   "interpreter": {
    "hash": "2effa804e6e64772290ccde403c5d8a0283167190788b8efbea13aee2f59febf"
   }
  }
 },
 "nbformat": 4,
 "nbformat_minor": 2
}
