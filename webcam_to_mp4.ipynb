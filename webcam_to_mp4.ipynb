{
 "cells": [
  {
   "cell_type": "code",
   "execution_count": 4,
   "metadata": {},
   "outputs": [
    {
     "name": "stdout",
     "output_type": "stream",
     "text": [
      "The video was successfully saved\n"
     ]
    }
   ],
   "source": [
    "# Python program to save a\n",
    "# video using OpenCV\n",
    "\n",
    "\n",
    "import cv2\n",
    "\n",
    "\n",
    "# Create an object to read\n",
    "# from camera\n",
    "video = cv2.VideoCapture(0)\n",
    "\n",
    "# We need to check if camera\n",
    "# is opened previously or not\n",
    "if (video.isOpened() == False):\n",
    "\tprint(\"Error reading video file\")\n",
    "\n",
    "# We need to set resolutions.\n",
    "# so, convert them from float to integer.\n",
    "frame_width = int(video.get(3))\n",
    "frame_height = int(video.get(4))\n",
    "\n",
    "size = (frame_width, frame_height)\n",
    "\n",
    "# Below VideoWriter object will create\n",
    "# a frame of above defined The output\n",
    "# is stored in 'filename.avi' file.\n",
    "result = cv2.VideoWriter('filename.avi', cv2.VideoWriter_fourcc(*'MJPG'),10, size)\n",
    "result_mp4 = cv2.VideoWriter('filename.mp4', cv2.VideoWriter_fourcc(*'MP4V'), 10, size)\n",
    "\t\n",
    "while(True):\n",
    "\tret, frame = video.read()\n",
    "\n",
    "\tif ret == True:\n",
    "\n",
    "\t\t# Write the frame into the\n",
    "\t\t# file 'filename.avi'\n",
    "\t\tresult.write(frame)\n",
    "\t\tresult_mp4.write(frame)\n",
    "\n",
    "\t\t# Display the frame\n",
    "\t\t# saved in the file\n",
    "\t\tcv2.imshow('Frame', frame)\n",
    "\n",
    "\t\t# Press S on keyboard\n",
    "\t\t# to stop the process\n",
    "\t\tif cv2.waitKey(1) & 0xFF == ord('s'):\n",
    "\t\t\tbreak\n",
    "\n",
    "\t# Break the loop\n",
    "\telse:\n",
    "\t\tbreak\n",
    "\n",
    "# When everything done, release\n",
    "# the video capture and video\n",
    "# write objects\n",
    "video.release()\n",
    "result.release()\n",
    "result_mp4.release()\n",
    "\t\n",
    "# Closes all the frames\n",
    "cv2.destroyAllWindows()\n",
    "\n",
    "print(\"The video was successfully saved\")\n"
   ]
  },
  {
   "cell_type": "code",
   "execution_count": null,
   "metadata": {},
   "outputs": [],
   "source": []
  }
 ],
 "metadata": {
  "kernelspec": {
   "display_name": "Python 3.9.13 ('deepFace')",
   "language": "python",
   "name": "python3"
  },
  "language_info": {
   "codemirror_mode": {
    "name": "ipython",
    "version": 3
   },
   "file_extension": ".py",
   "mimetype": "text/x-python",
   "name": "python",
   "nbconvert_exporter": "python",
   "pygments_lexer": "ipython3",
   "version": "3.9.13"
  },
  "orig_nbformat": 4,
  "vscode": {
   "interpreter": {
    "hash": "2effa804e6e64772290ccde403c5d8a0283167190788b8efbea13aee2f59febf"
   }
  }
 },
 "nbformat": 4,
 "nbformat_minor": 2
}
